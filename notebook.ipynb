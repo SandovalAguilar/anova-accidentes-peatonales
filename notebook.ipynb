{
 "cells": [
  {
   "cell_type": "code",
   "execution_count": 19,
   "metadata": {},
   "outputs": [],
   "source": [
    "import pandas as pd"
   ]
  },
  {
   "cell_type": "code",
   "execution_count": 20,
   "metadata": {},
   "outputs": [
    {
     "data": {
      "text/html": [
       "<div>\n",
       "<style scoped>\n",
       "    .dataframe tbody tr th:only-of-type {\n",
       "        vertical-align: middle;\n",
       "    }\n",
       "\n",
       "    .dataframe tbody tr th {\n",
       "        vertical-align: top;\n",
       "    }\n",
       "\n",
       "    .dataframe thead th {\n",
       "        text-align: right;\n",
       "    }\n",
       "</style>\n",
       "<table border=\"1\" class=\"dataframe\">\n",
       "  <thead>\n",
       "    <tr style=\"text-align: right;\">\n",
       "      <th></th>\n",
       "      <th>Folio</th>\n",
       "      <th>Ejercicio</th>\n",
       "      <th>Mes</th>\n",
       "      <th>Fecha</th>\n",
       "      <th>Dia</th>\n",
       "      <th>Hora</th>\n",
       "      <th>Tipo_de_accidente</th>\n",
       "      <th>Resolución</th>\n",
       "      <th>Origen_de_reporte</th>\n",
       "      <th>Tipo_de_asentamiento</th>\n",
       "      <th>Nombre_de_asentamiento</th>\n",
       "      <th>Tipo_de_vialidad</th>\n",
       "      <th>Nombre_de_la_Vialidad</th>\n",
       "      <th>Georreferencia</th>\n",
       "      <th>Nota</th>\n",
       "    </tr>\n",
       "  </thead>\n",
       "  <tbody>\n",
       "    <tr>\n",
       "      <th>0</th>\n",
       "      <td>58110</td>\n",
       "      <td>2021</td>\n",
       "      <td>Julio</td>\n",
       "      <td>2021-07-01</td>\n",
       "      <td>Jueves</td>\n",
       "      <td>12:45:00</td>\n",
       "      <td>Otro</td>\n",
       "      <td>Finiquitado</td>\n",
       "      <td>C4</td>\n",
       "      <td>Colonia</td>\n",
       "      <td>Fomerrey 116</td>\n",
       "      <td>Calle</td>\n",
       "      <td>Nepenta</td>\n",
       "      <td>25.7693432, -100.3837696</td>\n",
       "      <td>La presente información es obtenida de la part...</td>\n",
       "    </tr>\n",
       "    <tr>\n",
       "      <th>1</th>\n",
       "      <td>58693</td>\n",
       "      <td>2021</td>\n",
       "      <td>Julio</td>\n",
       "      <td>2021-07-01</td>\n",
       "      <td>Jueves</td>\n",
       "      <td>16:01:00</td>\n",
       "      <td>Otro</td>\n",
       "      <td>Finiquitado</td>\n",
       "      <td>C4</td>\n",
       "      <td>Colonia</td>\n",
       "      <td>Las Cumbres</td>\n",
       "      <td>Calle</td>\n",
       "      <td>Enrique C Livas</td>\n",
       "      <td>25.7575571, -100.405419</td>\n",
       "      <td>La presente información es obtenida de la part...</td>\n",
       "    </tr>\n",
       "    <tr>\n",
       "      <th>2</th>\n",
       "      <td>58556</td>\n",
       "      <td>2021</td>\n",
       "      <td>Julio</td>\n",
       "      <td>2021-07-01</td>\n",
       "      <td>Jueves</td>\n",
       "      <td>08:52:00</td>\n",
       "      <td>Lateral</td>\n",
       "      <td>Finiquitado</td>\n",
       "      <td>C4</td>\n",
       "      <td>Colonia</td>\n",
       "      <td>Centro</td>\n",
       "      <td>Calle</td>\n",
       "      <td>Rafael Ramirez</td>\n",
       "      <td>25.671748, -100.2938254</td>\n",
       "      <td>La presente información es obtenida de la part...</td>\n",
       "    </tr>\n",
       "    <tr>\n",
       "      <th>3</th>\n",
       "      <td>58554</td>\n",
       "      <td>2021</td>\n",
       "      <td>Julio</td>\n",
       "      <td>2021-07-01</td>\n",
       "      <td>Jueves</td>\n",
       "      <td>10:48:00</td>\n",
       "      <td>Lateral</td>\n",
       "      <td>Finiquitado</td>\n",
       "      <td>C4</td>\n",
       "      <td>Colonia</td>\n",
       "      <td>Fomerrey 45</td>\n",
       "      <td>Calle</td>\n",
       "      <td>Ant Cam A Villa De Santiago</td>\n",
       "      <td>25.589986, -100.2474516</td>\n",
       "      <td>La presente información es obtenida de la part...</td>\n",
       "    </tr>\n",
       "    <tr>\n",
       "      <th>4</th>\n",
       "      <td>58420</td>\n",
       "      <td>2021</td>\n",
       "      <td>Julio</td>\n",
       "      <td>2021-07-01</td>\n",
       "      <td>Jueves</td>\n",
       "      <td>15:32:00</td>\n",
       "      <td>Alcance</td>\n",
       "      <td>Finiquitado</td>\n",
       "      <td>C4</td>\n",
       "      <td>Colonia</td>\n",
       "      <td>Centro</td>\n",
       "      <td>Calle</td>\n",
       "      <td>Pino Suarez</td>\n",
       "      <td>25.6661568, -100.3202256</td>\n",
       "      <td>La presente información es obtenida de la part...</td>\n",
       "    </tr>\n",
       "  </tbody>\n",
       "</table>\n",
       "</div>"
      ],
      "text/plain": [
       "    Folio   Ejercicio    Mes       Fecha     Dia      Hora  Tipo_de_accidente   \n",
       "0   58110        2021  Julio  2021-07-01  Jueves  12:45:00               Otro  \\\n",
       "1   58693        2021  Julio  2021-07-01  Jueves  16:01:00               Otro   \n",
       "2   58556        2021  Julio  2021-07-01  Jueves  08:52:00            Lateral   \n",
       "3   58554        2021  Julio  2021-07-01  Jueves  10:48:00            Lateral   \n",
       "4   58420        2021  Julio  2021-07-01  Jueves  15:32:00            Alcance   \n",
       "\n",
       "    Resolución  Origen_de_reporte  Tipo_de_asentamiento   \n",
       "0  Finiquitado                 C4               Colonia  \\\n",
       "1  Finiquitado                 C4               Colonia   \n",
       "2  Finiquitado                 C4               Colonia   \n",
       "3  Finiquitado                 C4               Colonia   \n",
       "4  Finiquitado                 C4               Colonia   \n",
       "\n",
       "   Nombre_de_asentamiento  Tipo_de_vialidad        Nombre_de_la_Vialidad   \n",
       "0            Fomerrey 116             Calle                      Nepenta  \\\n",
       "1             Las Cumbres             Calle              Enrique C Livas   \n",
       "2                  Centro             Calle               Rafael Ramirez   \n",
       "3             Fomerrey 45             Calle  Ant Cam A Villa De Santiago   \n",
       "4                  Centro             Calle                  Pino Suarez   \n",
       "\n",
       "             Georreferencia                                               Nota  \n",
       "0  25.7693432, -100.3837696  La presente información es obtenida de la part...  \n",
       "1   25.7575571, -100.405419  La presente información es obtenida de la part...  \n",
       "2   25.671748, -100.2938254  La presente información es obtenida de la part...  \n",
       "3   25.589986, -100.2474516  La presente información es obtenida de la part...  \n",
       "4  25.6661568, -100.3202256  La presente información es obtenida de la part...  "
      ]
     },
     "execution_count": 20,
     "metadata": {},
     "output_type": "execute_result"
    }
   ],
   "source": [
    "df = pd.read_csv(\"indices-de-estadisticas-de-accidentes-viales-monterrey.csv\")\n",
    "df.head(5)"
   ]
  },
  {
   "cell_type": "code",
   "execution_count": 23,
   "metadata": {},
   "outputs": [
    {
     "data": {
      "text/plain": [
       "[' Folio',\n",
       " ' Ejercicio',\n",
       " ' Mes',\n",
       " ' Fecha',\n",
       " ' Dia',\n",
       " ' Hora',\n",
       " ' Tipo_de_accidente',\n",
       " ' Resolución',\n",
       " ' Origen_de_reporte',\n",
       " ' Tipo_de_asentamiento',\n",
       " ' Nombre_de_asentamiento',\n",
       " ' Tipo_de_vialidad',\n",
       " ' Nombre_de_la_Vialidad',\n",
       " ' Georreferencia',\n",
       " ' Nota']"
      ]
     },
     "execution_count": 23,
     "metadata": {},
     "output_type": "execute_result"
    }
   ],
   "source": [
    "df.columns.tolist()"
   ]
  },
  {
   "cell_type": "code",
   "execution_count": 28,
   "metadata": {},
   "outputs": [
    {
     "data": {
      "text/plain": [
       "array(['Otro', 'Lateral', 'Alcance', 'De Reversa', 'Volcadura',\n",
       "       'Estrellamiento', 'Caida De Persona', 'Atropello', 'De Frente',\n",
       "       'Incendio', 'Crucero', 'Salida De Camino', 'No Guardo Distancia',\n",
       "       'No Respeto Semaforo', 'Invasion De Carril', 'Distraccion',\n",
       "       'No Respeto Señalamientos', 'Estado De Alcoholismo',\n",
       "       'Sentido Contrario', 'Exceso De Velocidad', 'Giro Indebido',\n",
       "       'Exceso De Dimensiones', 'Caida de Persona'], dtype=object)"
      ]
     },
     "execution_count": 28,
     "metadata": {},
     "output_type": "execute_result"
    }
   ],
   "source": [
    "df[\" Tipo_de_accidente\"].unique()"
   ]
  }
 ],
 "metadata": {
  "kernelspec": {
   "display_name": "Python 3",
   "language": "python",
   "name": "python3"
  },
  "language_info": {
   "codemirror_mode": {
    "name": "ipython",
    "version": 3
   },
   "file_extension": ".py",
   "mimetype": "text/x-python",
   "name": "python",
   "nbconvert_exporter": "python",
   "pygments_lexer": "ipython3",
   "version": "3.10.12"
  },
  "orig_nbformat": 4
 },
 "nbformat": 4,
 "nbformat_minor": 2
}
